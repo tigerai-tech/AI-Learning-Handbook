{
 "nbformat": 4,
 "nbformat_minor": 0,
 "metadata": {
  "colab": {
   "provenance": [],
   "toc_visible": true,
   "authorship_tag": "ABX9TyM1+bks4FJT4VHacIoxPb0V"
  },
  "kernelspec": {
   "name": "python3",
   "display_name": "Python 3 (ipykernel)",
   "language": "python"
  },
  "language_info": {
   "name": "python"
  }
 },
 "cells": [
  {
   "metadata": {},
   "cell_type": "markdown",
   "source": "### 1. 环境准备"
  },
  {
   "metadata": {
    "ExecuteTime": {
     "end_time": "2025-04-15T13:35:20.739610Z",
     "start_time": "2025-04-15T13:35:16.702391Z"
    }
   },
   "cell_type": "code",
   "source": [
    "!pip install numpy==2.2.0\n",
    "!pip install pandas==2.2.3\n",
    "!pip install scikit-learn==1.6.0\n",
    "!pip install matplotlib==3.9.3\n",
    "\n",
    "import pandas as pd\n",
    "import numpy as np\n",
    "\n",
    "from sklearn.model_selection import train_test_split\n",
    "from sklearn.linear_model import LogisticRegression\n",
    "from sklearn.preprocessing import StandardScaler\n",
    "\n",
    "from sklearn.metrics import log_loss\n",
    "import matplotlib.pyplot as plt"
   ],
   "outputs": [
    {
     "name": "stdout",
     "output_type": "stream",
     "text": [
      "Requirement already satisfied: numpy==2.2.0 in /opt/homebrew/anaconda3/envs/colab/lib/python3.11/site-packages (2.2.0)\r\n",
      "Requirement already satisfied: pandas==2.2.3 in /opt/homebrew/anaconda3/envs/colab/lib/python3.11/site-packages (2.2.3)\r\n",
      "Requirement already satisfied: numpy>=1.23.2 in /opt/homebrew/anaconda3/envs/colab/lib/python3.11/site-packages (from pandas==2.2.3) (2.2.0)\r\n",
      "Requirement already satisfied: python-dateutil>=2.8.2 in /opt/homebrew/anaconda3/envs/colab/lib/python3.11/site-packages (from pandas==2.2.3) (2.9.0.post0)\r\n",
      "Requirement already satisfied: pytz>=2020.1 in /opt/homebrew/anaconda3/envs/colab/lib/python3.11/site-packages (from pandas==2.2.3) (2025.2)\r\n",
      "Requirement already satisfied: tzdata>=2022.7 in /opt/homebrew/anaconda3/envs/colab/lib/python3.11/site-packages (from pandas==2.2.3) (2025.2)\r\n",
      "Requirement already satisfied: six>=1.5 in /opt/homebrew/anaconda3/envs/colab/lib/python3.11/site-packages (from python-dateutil>=2.8.2->pandas==2.2.3) (1.17.0)\r\n",
      "Requirement already satisfied: scikit-learn==1.6.0 in /opt/homebrew/anaconda3/envs/colab/lib/python3.11/site-packages (1.6.0)\r\n",
      "Requirement already satisfied: numpy>=1.19.5 in /opt/homebrew/anaconda3/envs/colab/lib/python3.11/site-packages (from scikit-learn==1.6.0) (2.2.0)\r\n",
      "Requirement already satisfied: scipy>=1.6.0 in /opt/homebrew/anaconda3/envs/colab/lib/python3.11/site-packages (from scikit-learn==1.6.0) (1.15.2)\r\n",
      "Requirement already satisfied: joblib>=1.2.0 in /opt/homebrew/anaconda3/envs/colab/lib/python3.11/site-packages (from scikit-learn==1.6.0) (1.4.2)\r\n",
      "Requirement already satisfied: threadpoolctl>=3.1.0 in /opt/homebrew/anaconda3/envs/colab/lib/python3.11/site-packages (from scikit-learn==1.6.0) (3.6.0)\r\n",
      "Requirement already satisfied: matplotlib==3.9.3 in /opt/homebrew/anaconda3/envs/colab/lib/python3.11/site-packages (3.9.3)\r\n",
      "Requirement already satisfied: contourpy>=1.0.1 in /opt/homebrew/anaconda3/envs/colab/lib/python3.11/site-packages (from matplotlib==3.9.3) (1.3.1)\r\n",
      "Requirement already satisfied: cycler>=0.10 in /opt/homebrew/anaconda3/envs/colab/lib/python3.11/site-packages (from matplotlib==3.9.3) (0.12.1)\r\n",
      "Requirement already satisfied: fonttools>=4.22.0 in /opt/homebrew/anaconda3/envs/colab/lib/python3.11/site-packages (from matplotlib==3.9.3) (4.57.0)\r\n",
      "Requirement already satisfied: kiwisolver>=1.3.1 in /opt/homebrew/anaconda3/envs/colab/lib/python3.11/site-packages (from matplotlib==3.9.3) (1.4.8)\r\n",
      "Requirement already satisfied: numpy>=1.23 in /opt/homebrew/anaconda3/envs/colab/lib/python3.11/site-packages (from matplotlib==3.9.3) (2.2.0)\r\n",
      "Requirement already satisfied: packaging>=20.0 in /opt/homebrew/anaconda3/envs/colab/lib/python3.11/site-packages (from matplotlib==3.9.3) (24.2)\r\n",
      "Requirement already satisfied: pillow>=8 in /opt/homebrew/anaconda3/envs/colab/lib/python3.11/site-packages (from matplotlib==3.9.3) (11.2.1)\r\n",
      "Requirement already satisfied: pyparsing>=2.3.1 in /opt/homebrew/anaconda3/envs/colab/lib/python3.11/site-packages (from matplotlib==3.9.3) (3.2.3)\r\n",
      "Requirement already satisfied: python-dateutil>=2.7 in /opt/homebrew/anaconda3/envs/colab/lib/python3.11/site-packages (from matplotlib==3.9.3) (2.9.0.post0)\r\n",
      "Requirement already satisfied: six>=1.5 in /opt/homebrew/anaconda3/envs/colab/lib/python3.11/site-packages (from python-dateutil>=2.7->matplotlib==3.9.3) (1.17.0)\r\n"
     ]
    }
   ],
   "execution_count": 1
  },
  {
   "metadata": {},
   "cell_type": "markdown",
   "source": [
    "### 2. 数据加载\n",
    "\n"
   ]
  },
  {
   "metadata": {
    "ExecuteTime": {
     "end_time": "2025-04-15T13:48:32.101157Z",
     "start_time": "2025-04-15T13:48:29.886917Z"
    }
   },
   "cell_type": "code",
   "source": [
    "url = \"https://cf-courses-data.s3.us.cloud-object-storage.appdomain.cloud/IBMDeveloperSkillsNetwork-ML0101EN-SkillsNetwork/labs/Module%203/data/ChurnData.csv\"\n",
    "churn_df = pd.read_csv(url)\n",
    "print(churn_df.shape)\n",
    "# 从28列中仅取其中8列\n",
    "churn_df = churn_df[['tenure', 'age', 'address', 'income', 'ed', 'employ', 'equip','callcard', 'churn']]\n",
    "churn_df['churn'] = churn_df['churn'].astype('int') #float转int"
   ],
   "outputs": [
    {
     "name": "stdout",
     "output_type": "stream",
     "text": [
      "(200, 28)\n"
     ]
    }
   ],
   "execution_count": 14
  },
  {
   "metadata": {
    "ExecuteTime": {
     "end_time": "2025-04-15T13:48:41.121133Z",
     "start_time": "2025-04-15T13:48:41.118270Z"
    }
   },
   "cell_type": "code",
   "source": [
    "X = np.asarray(churn_df[['tenure', 'age', 'address', 'income', 'ed', 'employ', 'equip','callcard']])\n",
    "print(X.shape)\n",
    "print(X[0:3])\n",
    "y = np.asarray(churn_df['churn'])"
   ],
   "outputs": [
    {
     "name": "stdout",
     "output_type": "stream",
     "text": [
      "(200, 8)\n",
      "[[ 11.  33.   7. 136.   5.   5.   0.   1.]\n",
      " [ 33.  33.  12.  33.   2.   0.   0.   0.]\n",
      " [ 23.  30.   9.  30.   1.   2.   0.   0.]]\n"
     ]
    }
   ],
   "execution_count": 15
  },
  {
   "metadata": {
    "ExecuteTime": {
     "end_time": "2025-04-15T13:48:43.627236Z",
     "start_time": "2025-04-15T13:48:43.622560Z"
    }
   },
   "cell_type": "code",
   "source": [
    "X_norm = StandardScaler().fit_transform(X)\n",
    "print(X_norm[0:3])"
   ],
   "outputs": [
    {
     "name": "stdout",
     "output_type": "stream",
     "text": [
      "[[-1.13518441 -0.62595491 -0.4588971   0.4751423   1.6961288  -0.58477841\n",
      "  -0.85972695  0.64686916]\n",
      " [-0.11604313 -0.62595491  0.03454064 -0.32886061 -0.6433592  -1.14437497\n",
      "  -0.85972695 -1.54590766]\n",
      " [-0.57928917 -0.85594447 -0.261522   -0.35227817 -1.42318853 -0.92053635\n",
      "  -0.85972695 -1.54590766]]\n"
     ]
    }
   ],
   "execution_count": 16
  },
  {
   "metadata": {
    "ExecuteTime": {
     "end_time": "2025-04-15T13:48:47.734724Z",
     "start_time": "2025-04-15T13:48:47.731087Z"
    }
   },
   "cell_type": "code",
   "source": "X_train, X_test, y_train, y_test = train_test_split( X_norm, y, test_size=0.2, random_state=4)",
   "outputs": [],
   "execution_count": 17
  },
  {
   "metadata": {},
   "cell_type": "markdown",
   "source": "### 3. 模型训练"
  },
  {
   "metadata": {
    "ExecuteTime": {
     "end_time": "2025-04-15T13:48:50.505820Z",
     "start_time": "2025-04-15T13:48:50.502061Z"
    }
   },
   "cell_type": "code",
   "source": "LR = LogisticRegression().fit(X_train,y_train)",
   "outputs": [],
   "execution_count": 18
  },
  {
   "metadata": {
    "ExecuteTime": {
     "end_time": "2025-04-15T13:48:52.103764Z",
     "start_time": "2025-04-15T13:48:52.100690Z"
    }
   },
   "cell_type": "code",
   "source": [
    "yhat = LR.predict(X_test)\n",
    "yhat[:10]"
   ],
   "outputs": [
    {
     "data": {
      "text/plain": [
       "array([0, 0, 0, 0, 0, 0, 0, 0, 1, 0])"
      ]
     },
     "execution_count": 19,
     "metadata": {},
     "output_type": "execute_result"
    }
   ],
   "execution_count": 19
  },
  {
   "metadata": {
    "ExecuteTime": {
     "end_time": "2025-04-15T13:48:53.907009Z",
     "start_time": "2025-04-15T13:48:53.902520Z"
    }
   },
   "cell_type": "code",
   "source": [
    "yhat_prob = LR.predict_proba(X_test)\n",
    "yhat_prob[:10] # 返回预测的概率"
   ],
   "outputs": [
    {
     "data": {
      "text/plain": [
       "array([[0.77047565, 0.22952435],\n",
       "       [0.93543984, 0.06456016],\n",
       "       [0.75062776, 0.24937224],\n",
       "       [0.94883131, 0.05116869],\n",
       "       [0.77117014, 0.22882986],\n",
       "       [0.80793559, 0.19206441],\n",
       "       [0.67970438, 0.32029562],\n",
       "       [0.91850805, 0.08149195],\n",
       "       [0.20574314, 0.79425686],\n",
       "       [0.95243863, 0.04756137]])"
      ]
     },
     "execution_count": 20,
     "metadata": {},
     "output_type": "execute_result"
    }
   ],
   "execution_count": 20
  },
  {
   "metadata": {
    "ExecuteTime": {
     "end_time": "2025-04-15T13:48:56.085585Z",
     "start_time": "2025-04-15T13:48:56.027567Z"
    }
   },
   "cell_type": "code",
   "source": [
    "coefficients = pd.Series(LR.coef_[0], index=churn_df.columns[:-1])\n",
    "coefficients.sort_values().plot(kind='barh')\n",
    "plt.title(\"Feature Coefficients in Logistic Regression Churn Model\")\n",
    "plt.xlabel(\"Coefficient Value\")\n",
    "plt.show()"
   ],
   "outputs": [
    {
     "data": {
      "text/plain": [
       "<Figure size 640x480 with 1 Axes>"
      ],
      "image/png": "[encoded data removed]"
     },
     "metadata": {},
     "output_type": "display_data"
    }
   ],
   "execution_count": 21
  },
  {
   "metadata": {},
   "cell_type": "markdown",
   "source": "### 4. 模型评估"
  },
  {
   "metadata": {
    "ExecuteTime": {
     "end_time": "2025-04-15T13:48:59.355809Z",
     "start_time": "2025-04-15T13:48:59.350811Z"
    }
   },
   "cell_type": "code",
   "source": "log_loss(y_test, yhat_prob)",
   "outputs": [
    {
     "data": {
      "text/plain": [
       "0.6039104035600186"
      ]
     },
     "execution_count": 22,
     "metadata": {},
     "output_type": "execute_result"
    }
   ],
   "execution_count": 22
  }
 ]
}
